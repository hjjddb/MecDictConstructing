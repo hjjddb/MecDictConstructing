{
 "cells": [
  {
   "cell_type": "code",
   "execution_count": 3,
   "metadata": {
    "ExecuteTime": {
     "end_time": "2021-05-02T21:13:29.732202Z",
     "start_time": "2021-05-02T21:13:29.686479Z"
    }
   },
   "outputs": [],
   "source": [
    "import os\n",
    "from queue import Queue\n",
    "from vncorenlp import VnCoreNLP"
   ]
  },
  {
   "cell_type": "code",
   "execution_count": 4,
   "metadata": {
    "ExecuteTime": {
     "end_time": "2021-05-02T21:13:30.797717Z",
     "start_time": "2021-05-02T21:13:30.793350Z"
    }
   },
   "outputs": [],
   "source": [
    "def get_files(*folder):\n",
    "    if not folder: folder = \"../data/\"\n",
    "    files = []\n",
    "    q = Queue(maxsize=1000000)\n",
    "    q.put(os.path.abspath(folder))\n",
    "    \n",
    "    while not q.empty():\n",
    "        cur_folder = q.get()\n",
    "        containting = os.listdir(cur_folder)\n",
    "        for f in containting:\n",
    "            f_path = os.path.join(os.path.abspath(cur_folder), f)\n",
    "#             print(f'Getting {f_path}')\n",
    "            if os.path.isdir(f_path): q.put(f_path)\n",
    "            elif f_path.endswith('txt'): files.append(f_path)\n",
    "#     for f in files:\n",
    "#         print(f'File {files.index(f)}/{len(files) - 1} ready')\n",
    "    return files"
   ]
  },
  {
   "cell_type": "code",
   "execution_count": 5,
   "metadata": {
    "ExecuteTime": {
     "end_time": "2021-05-02T21:13:31.480900Z",
     "start_time": "2021-05-02T21:13:31.476675Z"
    }
   },
   "outputs": [],
   "source": [
    "class Scores:\n",
    "     \n",
    "    def __init__(self, tscore=0, mi=0, mi3=0, milogf=0, ll=0, mle=0, ms=0, logdice=0):\n",
    "        self.tscore = tscore\n",
    "        self.mi = mi\n",
    "        self.mi3 = mi3\n",
    "        self.milogf = milogf\n",
    "        self.ll = ll\n",
    "        self.mle = mle\n",
    "        self.ms = ms\n",
    "        self.logdice = logdice\n",
    "    \n",
    "    def __repr__(self):\n",
    "        return f\"\"\"t-score: {self.tscore}\\n\n",
    "                   mi: {self.mi}\\n\n",
    "                   mi3: {self.mi3}\\n\n",
    "                   mi_log_f: {self.milogf}\\n\n",
    "                   log-likelihood: {self.ll}\\n\n",
    "                   mle: {self.mle}\\n\n",
    "                   ms: {self.ms}\\n\n",
    "                   log_dice: {self.log_dice}\"\"\""
   ]
  },
  {
   "cell_type": "code",
   "execution_count": 6,
   "metadata": {
    "ExecuteTime": {
     "end_time": "2021-05-02T21:13:32.108473Z",
     "start_time": "2021-05-02T21:13:32.105180Z"
    }
   },
   "outputs": [],
   "source": [
    "class Candidate:\n",
    "    \n",
    "    def __init__(self, key, freq, corpus_size):\n",
    "        self.key = key\n",
    "        self.freq = freq\n",
    "        self.corpus_size = 0\n",
    "        self.score = self.get_score()\n",
    "        \n",
    "#     def get_score(self):\n",
    "#         self.score.tscore = \n",
    "        \n",
    "    def __repr(self):\n",
    "        return f\"\"\"Candidate: {self.key}\\n{score}\"\"\""
   ]
  },
  {
   "cell_type": "code",
   "execution_count": 7,
   "metadata": {
    "ExecuteTime": {
     "end_time": "2021-05-02T21:13:32.681095Z",
     "start_time": "2021-05-02T21:13:32.678159Z"
    }
   },
   "outputs": [
    {
     "ename": "SyntaxError",
     "evalue": "invalid syntax (<ipython-input-7-f7c367e63b6c>, line 3)",
     "output_type": "error",
     "traceback": [
      "\u001b[0;36m  File \u001b[0;32m\"<ipython-input-7-f7c367e63b6c>\"\u001b[0;36m, line \u001b[0;32m3\u001b[0m\n\u001b[0;31m    if\u001b[0m\n\u001b[0m       ^\u001b[0m\n\u001b[0;31mSyntaxError\u001b[0m\u001b[0;31m:\u001b[0m invalid syntax\n"
     ]
    }
   ],
   "source": [
    "def filter(candidates):\n",
    "    for cand in candidates:\n",
    "        if "
   ]
  },
  {
   "cell_type": "code",
   "execution_count": 17,
   "metadata": {
    "ExecuteTime": {
     "end_time": "2021-05-02T21:22:11.929796Z",
     "start_time": "2021-05-02T21:22:11.925709Z"
    }
   },
   "outputs": [],
   "source": [
    "def get_candidates(files):\n",
    "    ngrams = {}\n",
    "    print('Init model...')\n",
    "    annotator = VnCoreNLP('venv/VnCoreNLP-master/VnCoreNLP-1.1.1.jar', annotators=\"wseg,pos,ner,parse\", max_heap_size='-Xmx2g')\n",
    "    # vncorenlp -Xmx2g /home/dastud/VnCoreNLP/VnCoreNLP-1.1.1.jar -p 2050 -a \"wseg,pos\"\n",
    "    annotator = VnCoreNLP(address=\"http://127.0.0.1\", port=2050)\n",
    "    words_segmented = []\n",
    "    for file in files:\n",
    "        with open(file, \"r\", encoding=\"utf-8\", errors=\"ignore\") as f:\n",
    "            try:\n",
    "                content = f.read()\n",
    "                for s in annotator.tokenize(content):\n",
    "                    for w in s:\n",
    "                        words_segmented.append(w)\n",
    "                print(word_segmented)\n",
    "            except:\n",
    "                pass"
   ]
  },
  {
   "cell_type": "code",
   "execution_count": 18,
   "metadata": {
    "ExecuteTime": {
     "end_time": "2021-05-02T21:22:13.095452Z",
     "start_time": "2021-05-02T21:22:12.877508Z"
    }
   },
   "outputs": [
    {
     "name": "stdout",
     "output_type": "stream",
     "text": [
      "Init model...\n"
     ]
    }
   ],
   "source": [
    "if __name__ == '__main__':\n",
    "    files = get_files()\n",
    "    get_candidates(files)\n",
    "#     print(os.system(\"java -version\"))"
   ]
  }
 ],
 "metadata": {
  "kernelspec": {
   "display_name": "Python 3",
   "language": "python",
   "name": "python3"
  },
  "language_info": {
   "codemirror_mode": {
    "name": "ipython",
    "version": 3
   },
   "file_extension": ".py",
   "mimetype": "text/x-python",
   "name": "python",
   "nbconvert_exporter": "python",
   "pygments_lexer": "ipython3",
   "version": "3.8.5"
  }
 },
 "nbformat": 4,
 "nbformat_minor": 2
}
