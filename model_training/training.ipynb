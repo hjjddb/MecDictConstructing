{
 "cells": [
  {
   "cell_type": "code",
   "execution_count": 3,
   "id": "229be87a",
   "metadata": {
    "ExecuteTime": {
     "end_time": "2021-05-02T21:55:16.114226Z",
     "start_time": "2021-05-02T21:55:16.109826Z"
    }
   },
   "outputs": [],
   "source": [
    "import pandas as pd \n",
    "from matplotlib import pyplot as plt \n",
    "%matplotlib inline"
   ]
  },
  {
   "cell_type": "code",
   "execution_count": 19,
   "id": "b7435f14",
   "metadata": {
    "ExecuteTime": {
     "end_time": "2021-05-02T22:08:55.167115Z",
     "start_time": "2021-05-02T22:08:55.147805Z"
    }
   },
   "outputs": [
    {
     "data": {
      "text/html": [
       "<div>\n",
       "<style scoped>\n",
       "    .dataframe tbody tr th:only-of-type {\n",
       "        vertical-align: middle;\n",
       "    }\n",
       "\n",
       "    .dataframe tbody tr th {\n",
       "        vertical-align: top;\n",
       "    }\n",
       "\n",
       "    .dataframe thead th {\n",
       "        text-align: right;\n",
       "    }\n",
       "</style>\n",
       "<table border=\"1\" class=\"dataframe\">\n",
       "  <thead>\n",
       "    <tr style=\"text-align: right;\">\n",
       "      <th></th>\n",
       "      <th>Candidate</th>\n",
       "      <th>tscore</th>\n",
       "      <th>mi</th>\n",
       "      <th>mi3</th>\n",
       "      <th>mi_log_f</th>\n",
       "      <th>ll</th>\n",
       "      <th>mle</th>\n",
       "      <th>ms</th>\n",
       "      <th>log_dice</th>\n",
       "      <th>avg</th>\n",
       "      <th>norm</th>\n",
       "      <th>opt</th>\n",
       "      <th>label</th>\n",
       "    </tr>\n",
       "  </thead>\n",
       "  <tbody>\n",
       "    <tr>\n",
       "      <th>0</th>\n",
       "      <td>điều_trị béo</td>\n",
       "      <td>-0.003747</td>\n",
       "      <td>19.103054</td>\n",
       "      <td>19.103054</td>\n",
       "      <td>13.241228</td>\n",
       "      <td>10586.132590</td>\n",
       "      <td>0.000087</td>\n",
       "      <td>0.026316</td>\n",
       "      <td>15.000063</td>\n",
       "      <td>0.0</td>\n",
       "      <td>0.0</td>\n",
       "      <td>0.0</td>\n",
       "      <td>0.0</td>\n",
       "    </tr>\n",
       "    <tr>\n",
       "      <th>1</th>\n",
       "      <td>chế_độ ăn_uống</td>\n",
       "      <td>0.076359</td>\n",
       "      <td>20.248905</td>\n",
       "      <td>27.418830</td>\n",
       "      <td>51.937415</td>\n",
       "      <td>9237.905363</td>\n",
       "      <td>0.001045</td>\n",
       "      <td>0.342857</td>\n",
       "      <td>18.584968</td>\n",
       "      <td>0.0</td>\n",
       "      <td>0.0</td>\n",
       "      <td>0.0</td>\n",
       "      <td>1.0</td>\n",
       "    </tr>\n",
       "    <tr>\n",
       "      <th>2</th>\n",
       "      <td>ăn_uống khoa_học</td>\n",
       "      <td>0.249564</td>\n",
       "      <td>21.078601</td>\n",
       "      <td>23.078601</td>\n",
       "      <td>23.157210</td>\n",
       "      <td>3204.522977</td>\n",
       "      <td>0.000174</td>\n",
       "      <td>0.133333</td>\n",
       "      <td>16.000031</td>\n",
       "      <td>0.0</td>\n",
       "      <td>0.0</td>\n",
       "      <td>0.0</td>\n",
       "      <td>0.0</td>\n",
       "    </tr>\n",
       "    <tr>\n",
       "      <th>3</th>\n",
       "      <td>chứng_bệnh béo</td>\n",
       "      <td>-0.000523</td>\n",
       "      <td>23.388456</td>\n",
       "      <td>23.388456</td>\n",
       "      <td>16.211642</td>\n",
       "      <td>727.551756</td>\n",
       "      <td>0.000087</td>\n",
       "      <td>0.200000</td>\n",
       "      <td>15.000063</td>\n",
       "      <td>0.0</td>\n",
       "      <td>0.0</td>\n",
       "      <td>0.0</td>\n",
       "      <td>0.0</td>\n",
       "    </tr>\n",
       "    <tr>\n",
       "      <th>4</th>\n",
       "      <td>ăn_uống thoải_mái</td>\n",
       "      <td>-0.001394</td>\n",
       "      <td>21.973419</td>\n",
       "      <td>21.973419</td>\n",
       "      <td>15.230813</td>\n",
       "      <td>3224.358139</td>\n",
       "      <td>0.000087</td>\n",
       "      <td>0.066667</td>\n",
       "      <td>15.000063</td>\n",
       "      <td>0.0</td>\n",
       "      <td>0.0</td>\n",
       "      <td>0.0</td>\n",
       "      <td>0.0</td>\n",
       "    </tr>\n",
       "  </tbody>\n",
       "</table>\n",
       "</div>"
      ],
      "text/plain": [
       "           Candidate    tscore         mi        mi3   mi_log_f            ll  \\\n",
       "0       điều_trị béo -0.003747  19.103054  19.103054  13.241228  10586.132590   \n",
       "1     chế_độ ăn_uống  0.076359  20.248905  27.418830  51.937415   9237.905363   \n",
       "2   ăn_uống khoa_học  0.249564  21.078601  23.078601  23.157210   3204.522977   \n",
       "3     chứng_bệnh béo -0.000523  23.388456  23.388456  16.211642    727.551756   \n",
       "4  ăn_uống thoải_mái -0.001394  21.973419  21.973419  15.230813   3224.358139   \n",
       "\n",
       "        mle        ms   log_dice  avg  norm  opt  label  \n",
       "0  0.000087  0.026316  15.000063  0.0   0.0  0.0    0.0  \n",
       "1  0.001045  0.342857  18.584968  0.0   0.0  0.0    1.0  \n",
       "2  0.000174  0.133333  16.000031  0.0   0.0  0.0    0.0  \n",
       "3  0.000087  0.200000  15.000063  0.0   0.0  0.0    0.0  \n",
       "4  0.000087  0.066667  15.000063  0.0   0.0  0.0    0.0  "
      ]
     },
     "execution_count": 19,
     "metadata": {},
     "output_type": "execute_result"
    }
   ],
   "source": [
    "df = pd.read_csv(\"../result/Result.csv\")\n",
    "df = df.fillna(0)\n",
    "df.head()"
   ]
  },
  {
   "cell_type": "code",
   "execution_count": 5,
   "id": "44c1daf5",
   "metadata": {
    "ExecuteTime": {
     "end_time": "2021-05-02T21:56:43.395225Z",
     "start_time": "2021-05-02T21:56:43.392857Z"
    }
   },
   "outputs": [],
   "source": [
    "from sklearn.model_selection import train_test_split"
   ]
  },
  {
   "cell_type": "code",
   "execution_count": 36,
   "id": "427a3840",
   "metadata": {
    "ExecuteTime": {
     "end_time": "2021-05-02T22:16:01.206169Z",
     "start_time": "2021-05-02T22:16:01.190810Z"
    }
   },
   "outputs": [
    {
     "data": {
      "text/html": [
       "<div>\n",
       "<style scoped>\n",
       "    .dataframe tbody tr th:only-of-type {\n",
       "        vertical-align: middle;\n",
       "    }\n",
       "\n",
       "    .dataframe tbody tr th {\n",
       "        vertical-align: top;\n",
       "    }\n",
       "\n",
       "    .dataframe thead th {\n",
       "        text-align: right;\n",
       "    }\n",
       "</style>\n",
       "<table border=\"1\" class=\"dataframe\">\n",
       "  <thead>\n",
       "    <tr style=\"text-align: right;\">\n",
       "      <th></th>\n",
       "      <th>tscore</th>\n",
       "      <th>mi</th>\n",
       "      <th>mi3</th>\n",
       "      <th>mi_log_f</th>\n",
       "      <th>ll</th>\n",
       "      <th>mle</th>\n",
       "      <th>ms</th>\n",
       "      <th>log_dice</th>\n",
       "    </tr>\n",
       "  </thead>\n",
       "  <tbody>\n",
       "    <tr>\n",
       "      <th>2</th>\n",
       "      <td>0.249564</td>\n",
       "      <td>21.078601</td>\n",
       "      <td>23.078601</td>\n",
       "      <td>23.157210</td>\n",
       "      <td>3204.522977</td>\n",
       "      <td>0.000174</td>\n",
       "      <td>0.133333</td>\n",
       "      <td>16.000031</td>\n",
       "    </tr>\n",
       "    <tr>\n",
       "      <th>704</th>\n",
       "      <td>-0.000174</td>\n",
       "      <td>24.973419</td>\n",
       "      <td>24.973419</td>\n",
       "      <td>17.310255</td>\n",
       "      <td>727.551756</td>\n",
       "      <td>0.000087</td>\n",
       "      <td>1.000000</td>\n",
       "      <td>15.000063</td>\n",
       "    </tr>\n",
       "    <tr>\n",
       "      <th>95</th>\n",
       "      <td>-0.000436</td>\n",
       "      <td>23.651491</td>\n",
       "      <td>23.651491</td>\n",
       "      <td>16.393964</td>\n",
       "      <td>1178.449841</td>\n",
       "      <td>0.000087</td>\n",
       "      <td>0.250000</td>\n",
       "      <td>15.000063</td>\n",
       "    </tr>\n",
       "    <tr>\n",
       "      <th>558</th>\n",
       "      <td>-0.003398</td>\n",
       "      <td>20.688016</td>\n",
       "      <td>20.688016</td>\n",
       "      <td>14.339840</td>\n",
       "      <td>10586.132590</td>\n",
       "      <td>0.000087</td>\n",
       "      <td>0.026316</td>\n",
       "      <td>15.000063</td>\n",
       "    </tr>\n",
       "    <tr>\n",
       "      <th>300</th>\n",
       "      <td>-0.000261</td>\n",
       "      <td>24.388456</td>\n",
       "      <td>24.388456</td>\n",
       "      <td>16.904790</td>\n",
       "      <td>888.218273</td>\n",
       "      <td>0.000087</td>\n",
       "      <td>0.500000</td>\n",
       "      <td>15.000063</td>\n",
       "    </tr>\n",
       "    <tr>\n",
       "      <th>...</th>\n",
       "      <td>...</td>\n",
       "      <td>...</td>\n",
       "      <td>...</td>\n",
       "      <td>...</td>\n",
       "      <td>...</td>\n",
       "      <td>...</td>\n",
       "      <td>...</td>\n",
       "      <td>...</td>\n",
       "    </tr>\n",
       "    <tr>\n",
       "      <th>61</th>\n",
       "      <td>0.249891</td>\n",
       "      <td>23.651491</td>\n",
       "      <td>25.651491</td>\n",
       "      <td>25.983818</td>\n",
       "      <td>992.170213</td>\n",
       "      <td>0.000174</td>\n",
       "      <td>0.666667</td>\n",
       "      <td>16.000031</td>\n",
       "    </tr>\n",
       "    <tr>\n",
       "      <th>903</th>\n",
       "      <td>-0.000871</td>\n",
       "      <td>22.218531</td>\n",
       "      <td>22.218531</td>\n",
       "      <td>15.400712</td>\n",
       "      <td>1817.449779</td>\n",
       "      <td>0.000087</td>\n",
       "      <td>0.125000</td>\n",
       "      <td>15.000063</td>\n",
       "    </tr>\n",
       "    <tr>\n",
       "      <th>567</th>\n",
       "      <td>0.249630</td>\n",
       "      <td>21.272979</td>\n",
       "      <td>23.272979</td>\n",
       "      <td>23.370756</td>\n",
       "      <td>1454.799647</td>\n",
       "      <td>0.000174</td>\n",
       "      <td>0.181818</td>\n",
       "      <td>16.000031</td>\n",
       "    </tr>\n",
       "    <tr>\n",
       "      <th>547</th>\n",
       "      <td>-0.000261</td>\n",
       "      <td>24.388456</td>\n",
       "      <td>24.388456</td>\n",
       "      <td>16.904790</td>\n",
       "      <td>727.551756</td>\n",
       "      <td>0.000087</td>\n",
       "      <td>0.500000</td>\n",
       "      <td>15.000063</td>\n",
       "    </tr>\n",
       "    <tr>\n",
       "      <th>185</th>\n",
       "      <td>0.109349</td>\n",
       "      <td>21.716031</td>\n",
       "      <td>27.716031</td>\n",
       "      <td>47.714997</td>\n",
       "      <td>1860.721539</td>\n",
       "      <td>0.000697</td>\n",
       "      <td>0.800000</td>\n",
       "      <td>18.000008</td>\n",
       "    </tr>\n",
       "  </tbody>\n",
       "</table>\n",
       "<p>891 rows × 8 columns</p>\n",
       "</div>"
      ],
      "text/plain": [
       "       tscore         mi        mi3   mi_log_f            ll       mle  \\\n",
       "2    0.249564  21.078601  23.078601  23.157210   3204.522977  0.000174   \n",
       "704 -0.000174  24.973419  24.973419  17.310255    727.551756  0.000087   \n",
       "95  -0.000436  23.651491  23.651491  16.393964   1178.449841  0.000087   \n",
       "558 -0.003398  20.688016  20.688016  14.339840  10586.132590  0.000087   \n",
       "300 -0.000261  24.388456  24.388456  16.904790    888.218273  0.000087   \n",
       "..        ...        ...        ...        ...           ...       ...   \n",
       "61   0.249891  23.651491  25.651491  25.983818    992.170213  0.000174   \n",
       "903 -0.000871  22.218531  22.218531  15.400712   1817.449779  0.000087   \n",
       "567  0.249630  21.272979  23.272979  23.370756   1454.799647  0.000174   \n",
       "547 -0.000261  24.388456  24.388456  16.904790    727.551756  0.000087   \n",
       "185  0.109349  21.716031  27.716031  47.714997   1860.721539  0.000697   \n",
       "\n",
       "           ms   log_dice  \n",
       "2    0.133333  16.000031  \n",
       "704  1.000000  15.000063  \n",
       "95   0.250000  15.000063  \n",
       "558  0.026316  15.000063  \n",
       "300  0.500000  15.000063  \n",
       "..        ...        ...  \n",
       "61   0.666667  16.000031  \n",
       "903  0.125000  15.000063  \n",
       "567  0.181818  16.000031  \n",
       "547  0.500000  15.000063  \n",
       "185  0.800000  18.000008  \n",
       "\n",
       "[891 rows x 8 columns]"
      ]
     },
     "execution_count": 36,
     "metadata": {},
     "output_type": "execute_result"
    }
   ],
   "source": [
    "X_train, X_test, y_train, y_test = train_test_split(df[[\"tscore\", \"mi\", \"mi3\", \"mi_log_f\", \"ll\", \"mle\", \"ms\", \"log_dice\"]], df.label, test_size=0.1)\n",
    "X_train"
   ]
  },
  {
   "cell_type": "code",
   "execution_count": 1,
   "id": "e59de827",
   "metadata": {
    "ExecuteTime": {
     "end_time": "2021-05-02T21:53:57.057445Z",
     "start_time": "2021-05-02T21:53:57.050846Z"
    }
   },
   "outputs": [],
   "source": [
    "from sklearn.linear_model import LogisticRegression"
   ]
  },
  {
   "cell_type": "code",
   "execution_count": 26,
   "id": "fbc6b58f",
   "metadata": {
    "ExecuteTime": {
     "end_time": "2021-05-02T22:12:52.465815Z",
     "start_time": "2021-05-02T22:12:52.463681Z"
    }
   },
   "outputs": [],
   "source": [
    "lr_model = LogisticRegression()"
   ]
  },
  {
   "cell_type": "code",
   "execution_count": 27,
   "id": "1caec036",
   "metadata": {
    "ExecuteTime": {
     "end_time": "2021-05-02T22:12:53.607588Z",
     "start_time": "2021-05-02T22:12:53.588688Z"
    }
   },
   "outputs": [
    {
     "data": {
      "text/plain": [
       "LogisticRegression()"
      ]
     },
     "execution_count": 27,
     "metadata": {},
     "output_type": "execute_result"
    }
   ],
   "source": [
    "lr_model.fit(X_train, y_train)"
   ]
  },
  {
   "cell_type": "code",
   "execution_count": 28,
   "id": "a4e89e91",
   "metadata": {
    "ExecuteTime": {
     "end_time": "2021-05-02T22:13:03.499424Z",
     "start_time": "2021-05-02T22:13:03.493814Z"
    }
   },
   "outputs": [
    {
     "data": {
      "text/plain": [
       "array([0., 0., 0., 0., 0., 0., 0., 0., 0., 0., 0., 0., 0., 0., 0., 0., 0.,\n",
       "       0., 0., 0., 0., 0., 1., 0., 0., 0., 0., 0., 0., 0., 0., 0., 0., 0.,\n",
       "       0., 0., 0., 0., 0., 0., 0., 0., 0., 0., 0., 0., 0., 0., 0., 0., 0.,\n",
       "       1., 0., 0., 0., 0., 0., 0., 0., 0., 0., 0., 1., 0., 0., 0., 0., 0.,\n",
       "       0., 0., 0., 0., 0., 0., 0., 0., 0., 0., 0., 0., 0., 0., 0., 0., 0.,\n",
       "       0., 0., 0., 0., 0., 0., 0., 0., 0., 0., 0., 0., 0., 0., 0.])"
      ]
     },
     "execution_count": 28,
     "metadata": {},
     "output_type": "execute_result"
    }
   ],
   "source": [
    "lr_model.predict(X_test)"
   ]
  },
  {
   "cell_type": "code",
   "execution_count": 29,
   "id": "4b398467",
   "metadata": {
    "ExecuteTime": {
     "end_time": "2021-05-02T22:13:10.316009Z",
     "start_time": "2021-05-02T22:13:10.310784Z"
    }
   },
   "outputs": [
    {
     "data": {
      "text/plain": [
       "0.76"
      ]
     },
     "execution_count": 29,
     "metadata": {},
     "output_type": "execute_result"
    }
   ],
   "source": [
    "lr_model.score(X_test, y_test)"
   ]
  },
  {
   "cell_type": "code",
   "execution_count": 25,
   "id": "951ab97f",
   "metadata": {
    "ExecuteTime": {
     "end_time": "2021-05-02T22:12:26.218344Z",
     "start_time": "2021-05-02T22:12:26.203051Z"
    }
   },
   "outputs": [],
   "source": [
    "from sklearn import tree"
   ]
  },
  {
   "cell_type": "code",
   "execution_count": 30,
   "id": "4edec55e",
   "metadata": {
    "ExecuteTime": {
     "end_time": "2021-05-02T22:13:35.088900Z",
     "start_time": "2021-05-02T22:13:35.086687Z"
    }
   },
   "outputs": [],
   "source": [
    "dt_model = tree.DecisionTreeClassifier()"
   ]
  },
  {
   "cell_type": "code",
   "execution_count": 34,
   "id": "379a8cee",
   "metadata": {
    "ExecuteTime": {
     "end_time": "2021-05-02T22:14:08.407044Z",
     "start_time": "2021-05-02T22:14:08.399783Z"
    }
   },
   "outputs": [
    {
     "data": {
      "text/plain": [
       "DecisionTreeClassifier()"
      ]
     },
     "execution_count": 34,
     "metadata": {},
     "output_type": "execute_result"
    }
   ],
   "source": [
    "dt_model.fit(X_train, y_train)"
   ]
  },
  {
   "cell_type": "code",
   "execution_count": 37,
   "id": "3759e9b2",
   "metadata": {
    "ExecuteTime": {
     "end_time": "2021-05-02T22:16:29.875938Z",
     "start_time": "2021-05-02T22:16:29.869602Z"
    }
   },
   "outputs": [
    {
     "data": {
      "text/plain": [
       "array([0., 0., 0., 0., 0., 0., 0., 0., 0., 0., 1., 0., 0., 0., 1., 0., 0.,\n",
       "       1., 0., 0., 0., 0., 0., 0., 1., 0., 0., 0., 0., 0., 0., 0., 0., 0.,\n",
       "       0., 0., 0., 0., 0., 0., 0., 0., 0., 0., 0., 0., 0., 0., 0., 0., 1.,\n",
       "       1., 1., 0., 0., 1., 1., 0., 0., 0., 0., 0., 0., 0., 0., 0., 1., 0.,\n",
       "       0., 0., 1., 0., 0., 0., 0., 1., 0., 0., 0., 0., 0., 0., 0., 0., 0.,\n",
       "       0., 0., 0., 1., 0., 0., 0., 1., 0., 0., 0., 0., 0., 0., 0.])"
      ]
     },
     "execution_count": 37,
     "metadata": {},
     "output_type": "execute_result"
    }
   ],
   "source": [
    "dt_model.predict(X_test)"
   ]
  },
  {
   "cell_type": "code",
   "execution_count": 35,
   "id": "c19de3a9",
   "metadata": {
    "ExecuteTime": {
     "end_time": "2021-05-02T22:14:30.805374Z",
     "start_time": "2021-05-02T22:14:30.800047Z"
    }
   },
   "outputs": [
    {
     "data": {
      "text/plain": [
       "0.69"
      ]
     },
     "execution_count": 35,
     "metadata": {},
     "output_type": "execute_result"
    }
   ],
   "source": [
    "dt_model.score(X_test, y_test)"
   ]
  }
 ],
 "metadata": {
  "kernelspec": {
   "display_name": "Python 3",
   "language": "python",
   "name": "python3"
  },
  "language_info": {
   "codemirror_mode": {
    "name": "ipython",
    "version": 3
   },
   "file_extension": ".py",
   "mimetype": "text/x-python",
   "name": "python",
   "nbconvert_exporter": "python",
   "pygments_lexer": "ipython3",
   "version": "3.8.5"
  }
 },
 "nbformat": 4,
 "nbformat_minor": 5
}
